{
 "cells": [
  {
   "cell_type": "markdown",
   "metadata": {},
   "source": [
    "__`netdenizen.org`__\n",
    "==========\n",
    "---"
   ]
  },
  {
   "cell_type": "markdown",
   "metadata": {},
   "source": [
    "## introduction\n",
    "Here are a few of the projects that I have worked on recently. "
   ]
  },
  {
   "cell_type": "markdown",
   "metadata": {},
   "source": [
    "## magnet design\n",
    "[emagnet](https://netdenizen.org/emagnet) -- A small web site devoted to the vanishing art of practical magnet design.\n",
    "\n",
    "One of my earliest efforts in web design has seen many rewrites and redesigns since the late 90s when I first put it up on Geocities. Although some of the site hasn't changed since then, I have put some time into rewriting the site using iPython notebooks (thanks, Jupyter)."
   ]
  },
  {
   "cell_type": "markdown",
   "metadata": {},
   "source": [
    "## physics\n",
    "[special relativity](https://netdenizen.org/specialrelativity) \n",
    "-- An exploration of Einstein's Special Theory of Relativity using iPython notebooks.\n",
    "\n",
    "I taught high-school physics, and often found myself trying to explain basic relativity \n",
    "without fully understanding it myself. This set of iPython notebooks sets out to develop \n",
    "sufficient understanding to make sense of the famous \n",
    "[Twin Paradox](https://en.wikipedia.org/wiki/Twin_paradox)."
   ]
  },
  {
   "cell_type": "markdown",
   "metadata": {},
   "source": [
    "## curricula\n",
    "Some of the courses that I have developed:\n",
    "\n",
    "[advanced mathematics](https://docs.google.com/document/d/1WgqWZ38VJ7Bg0Uws9JkXFSsqLudHRSPJfd6nOphcQdU/edit) \n",
    "-- An investigative approach to the traditional high-school precalculus curriculum, co-authored \n",
    "with a colleague at Hanover High School.\n",
    "\n",
    "[introduction to computer programming](https://github.com/HHS-IntroProgramming/Standards-and-Syllabus/wiki)\n",
    " -- Tutorials and programming assignments in Python, for students of all abilities. \n",
    " \n",
    "An introduction to Data Science using iPython, Jupyter, and Pandas. [part 1](https://docs.google.com/document/d/1GU6GIgR1eBbYYc48fbhURRKhrvdpa5ukf1dCuJ0QtQI/edit#heading=h.7cx12ygbk2yg),\n",
    "[part 2](https://docs.google.com/document/d/1qq3cwtDi6N7QQTEgFDbx22BVGmEIzx0WjidftT_3_jQ/edit#heading=h.7cx12ygbk2yg), \n",
    "and [part 3](https://docs.google.com/document/d/130MJsFxoeffKXBKoIVrVAWjZRia5Aah0mxerbJkbAqM/edit#heading=h.7cx12ygbk2yg).\n",
    "\n",
    "[rocket science](https://docs.google.com/document/d/1Y41Mi-HsHZtuUYJQc7COEjv328GGYDNSQUDSKiAhp0o/edit#heading=h.qa1atosc6d2i) \n",
    "-- An introduction to rocket science using Python, \n",
    "[runpython](https://runpython.org), and [ggame](https://ggame.readthedocs.io/en/latest/index.html). A short course that I developed for the Hanover High School March Intensive session.\n",
    "\n",
    "[bare metal programming](https://docs.google.com/document/d/1_4PA1f40xFpuYPf2tgx4DjzSQnz1xJAyt3FCWFjGgpc/edit) -- \n",
    "An introduction to programming the 6502 microprocessor using hand-assembled machine language.\n",
    "\n"
   ]
  },
  {
   "cell_type": "markdown",
   "metadata": {},
   "source": [
    "## tools for computer programming education\n",
    "\n",
    "[runpython](https://runpython.org) -- A web-based Python development environment that I developed using\n",
    "using [Brython](http://brython.info) as a Python 3 interpreter and [Github](https://github.com) for\n",
    " file storage. \n",
    " The source code for runpython may be found at [Brython Server](https://github.com/tiggerntatie/brython-server).\n",
    " \n",
    "[ggame](https://github.com/BrythonServer/ggame) -- The 2D graphics engine that I created to use \n",
    "with [runpython](https://runpython.org). \n",
    "Documentation on [readthedocs.io](https://ggame.readthedocs.io/en/latest/index.html).  \n",
    "Try the ggame demo apps: [Spacewar!](http://runpython.com/?user=BrythonServer&repo=Spacewar&name=spacewar.py), \n",
    "[Platformer](http://runpython.org/?user=BrythonServer&repo=Platformer&name=platformer.py), and\n",
    "[Conway's Game of Life](https://runpython.org/?user=BrythonServer&repo=Conway-Life&name=life.py).\n",
    "\n",
    "\n"
   ]
  },
  {
   "cell_type": "markdown",
   "metadata": {},
   "source": [
    "---\n",
    "[netdenizen.org](https://netdenizen.org), © 2019 by Eric Dennison. Source code and license on [Github](https://github.com/tiggerntatie/netdenizen-nb)"
   ]
  }
 ],
 "metadata": {
  "kernelspec": {
   "display_name": "Python 3",
   "language": "python",
   "name": "python3"
  },
  "language_info": {
   "codemirror_mode": {
    "name": "ipython",
    "version": 3
   },
   "file_extension": ".py",
   "mimetype": "text/x-python",
   "name": "python",
   "nbconvert_exporter": "python",
   "pygments_lexer": "ipython3",
   "version": "3.5.2"
  }
 },
 "nbformat": 4,
 "nbformat_minor": 2
}
