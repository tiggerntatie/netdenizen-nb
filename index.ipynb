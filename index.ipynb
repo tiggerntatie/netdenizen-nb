{
 "cells": [
  {
   "cell_type": "markdown",
   "metadata": {},
   "source": [
    "__`netdenizen.org`__\n",
    "==========\n",
    "---"
   ]
  },
  {
   "cell_type": "markdown",
   "metadata": {},
   "source": [
    "## magnet design\n",
    "[emagnet](https://netdenizen.org/emagnet) -- A small web site devoted to the vanishing art of practical magnet design.\n",
    "\n",
    "One of my earliest efforts in web design has seen many rewrites and redesigns since the late 90s when I first put it up on Geocities. Although some of the site hasn't changed since then, I have put some time into rewriting the site using iPython notebooks (thanks, Jupyter)."
   ]
  },
  {
   "cell_type": "markdown",
   "metadata": {},
   "source": [
    "## physics\n",
    "[special relativity](https://netdenizen.org/specialrelativity) -- An exploration of Einstein's Special Theory of Relativity using iPython notebooks."
   ]
  },
  {
   "cell_type": "markdown",
   "metadata": {},
   "source": [
    "---\n",
    "[netdenizen.org](https://netdenizen.org), © 2019 by Eric Dennison. Source code and license on [Github](https://github.com/tiggerntatie/netdenizen-nb)"
   ]
  },
  {
   "cell_type": "code",
   "execution_count": null,
   "metadata": {},
   "outputs": [],
   "source": []
  }
 ],
 "metadata": {
  "kernelspec": {
   "display_name": "Python 3",
   "language": "python",
   "name": "python3"
  },
  "language_info": {
   "codemirror_mode": {
    "name": "ipython",
    "version": 3
   },
   "file_extension": ".py",
   "mimetype": "text/x-python",
   "name": "python",
   "nbconvert_exporter": "python",
   "pygments_lexer": "ipython3",
   "version": "3.5.2"
  }
 },
 "nbformat": 4,
 "nbformat_minor": 2
}
