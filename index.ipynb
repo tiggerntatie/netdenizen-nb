{
 "cells": [
  {
   "cell_type": "markdown",
   "metadata": {},
   "source": [
    "`netdenizen.org`\n",
    "==========\n",
    "\n",
    "[magnet formulas](./emagnet)"
   ]
  },
  {
   "cell_type": "markdown",
   "metadata": {},
   "source": [
    "This is some\n",
    "\n",
    "text that \n",
    "\n",
    "has some \n",
    "\n",
    "paragraphs."
   ]
  },
  {
   "cell_type": "markdown",
   "metadata": {},
   "source": [
    "---\n",
    "[netdenizen.org](https://netdenizen.org), © 2019 by Eric Dennison. Source code and license on [Github](https://github.com/tiggerntatie/netdenizen-nb)"
   ]
  }
 ],
 "metadata": {
  "kernelspec": {
   "display_name": "Python 3",
   "language": "python",
   "name": "python3"
  },
  "language_info": {
   "codemirror_mode": {
    "name": "ipython",
    "version": 3
   },
   "file_extension": ".py",
   "mimetype": "text/x-python",
   "name": "python",
   "nbconvert_exporter": "python",
   "pygments_lexer": "ipython3",
   "version": "3.5.2"
  }
 },
 "nbformat": 4,
 "nbformat_minor": 2
}
